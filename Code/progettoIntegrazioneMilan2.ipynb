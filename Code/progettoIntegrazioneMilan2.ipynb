{
 "cells": [
  {
   "cell_type": "code",
   "execution_count": 1,
   "metadata": {},
   "outputs": [],
   "source": [
    "import pandas as pd\n",
    "from datetime import timedelta\n",
    "milan=pd.read_csv(r'tweetMilan.csv')"
   ]
  },
  {
   "cell_type": "code",
   "execution_count": 4,
   "metadata": {},
   "outputs": [
    {
     "data": {
      "text/html": [
       "<div>\n",
       "<style scoped>\n",
       "    .dataframe tbody tr th:only-of-type {\n",
       "        vertical-align: middle;\n",
       "    }\n",
       "\n",
       "    .dataframe tbody tr th {\n",
       "        vertical-align: top;\n",
       "    }\n",
       "\n",
       "    .dataframe thead th {\n",
       "        text-align: right;\n",
       "    }\n",
       "</style>\n",
       "<table border=\"1\" class=\"dataframe\">\n",
       "  <thead>\n",
       "    <tr style=\"text-align: right;\">\n",
       "      <th></th>\n",
       "      <th>Unnamed: 0</th>\n",
       "      <th>content</th>\n",
       "      <th>query</th>\n",
       "      <th>tweetDate</th>\n",
       "      <th>twitterProfile</th>\n",
       "    </tr>\n",
       "  </thead>\n",
       "  <tbody>\n",
       "    <tr>\n",
       "      <th>0</th>\n",
       "      <td>5733</td>\n",
       "      <td>⚫🔵 #InterMilan 🔴⚫\\n\\nZlatan #Ibrahimovic è l'u...</td>\n",
       "      <td>#ibrahimovic</td>\n",
       "      <td>2020-02-09 19:30:14+00:00</td>\n",
       "      <td>https://twitter.com/bwinItalia</td>\n",
       "    </tr>\n",
       "    <tr>\n",
       "      <th>1</th>\n",
       "      <td>5592</td>\n",
       "      <td>#Inter #milan  #serieta #derby #hakancalhanogl...</td>\n",
       "      <td>#ibrahimovic</td>\n",
       "      <td>2020-02-09 19:30:25+00:00</td>\n",
       "      <td>https://twitter.com/DUNDARKESAPLI</td>\n",
       "    </tr>\n",
       "    <tr>\n",
       "      <th>2</th>\n",
       "      <td>5316</td>\n",
       "      <td>Hoohooo #Ibrahimovic https://t.co/6ZNcPzbxIp</td>\n",
       "      <td>#ibrahimovic</td>\n",
       "      <td>2020-02-09 19:32:40+00:00</td>\n",
       "      <td>https://twitter.com/ShadyMuhamed</td>\n",
       "    </tr>\n",
       "    <tr>\n",
       "      <th>3</th>\n",
       "      <td>5566</td>\n",
       "      <td>Solite merde. Saprebbero insultare pure Mourin...</td>\n",
       "      <td>#ibrahimovic</td>\n",
       "      <td>2020-02-09 19:35:02+00:00</td>\n",
       "      <td>https://twitter.com/berthayoko</td>\n",
       "    </tr>\n",
       "    <tr>\n",
       "      <th>4</th>\n",
       "      <td>5475</td>\n",
       "      <td>⚫🔵 #InterMilan 🔴⚫\\n\\nStasera chi ha più chance...</td>\n",
       "      <td>#ibrahimovic</td>\n",
       "      <td>2020-02-09 19:35:03+00:00</td>\n",
       "      <td>https://twitter.com/bwinItalia</td>\n",
       "    </tr>\n",
       "  </tbody>\n",
       "</table>\n",
       "</div>"
      ],
      "text/plain": [
       "   Unnamed: 0                                            content  \\\n",
       "0        5733  ⚫🔵 #InterMilan 🔴⚫\\n\\nZlatan #Ibrahimovic è l'u...   \n",
       "1        5592  #Inter #milan  #serieta #derby #hakancalhanogl...   \n",
       "2        5316       Hoohooo #Ibrahimovic https://t.co/6ZNcPzbxIp   \n",
       "3        5566  Solite merde. Saprebbero insultare pure Mourin...   \n",
       "4        5475  ⚫🔵 #InterMilan 🔴⚫\\n\\nStasera chi ha più chance...   \n",
       "\n",
       "          query                  tweetDate                     twitterProfile  \n",
       "0  #ibrahimovic  2020-02-09 19:30:14+00:00     https://twitter.com/bwinItalia  \n",
       "1  #ibrahimovic  2020-02-09 19:30:25+00:00  https://twitter.com/DUNDARKESAPLI  \n",
       "2  #ibrahimovic  2020-02-09 19:32:40+00:00   https://twitter.com/ShadyMuhamed  \n",
       "3  #ibrahimovic  2020-02-09 19:35:02+00:00     https://twitter.com/berthayoko  \n",
       "4  #ibrahimovic  2020-02-09 19:35:03+00:00     https://twitter.com/bwinItalia  "
      ]
     },
     "execution_count": 4,
     "metadata": {},
     "output_type": "execute_result"
    }
   ],
   "source": [
    "milan.head()"
   ]
  },
  {
   "cell_type": "code",
   "execution_count": 3,
   "metadata": {},
   "outputs": [],
   "source": [
    "milan['tweetDate'] = pd.to_datetime(milan['tweetDate'], format = '%Y-%m-%dT%H:%M:%S', utc = True)"
   ]
  },
  {
   "cell_type": "code",
   "execution_count": 4,
   "metadata": {},
   "outputs": [
    {
     "data": {
      "text/plain": [
       "(845, 5)"
      ]
     },
     "execution_count": 4,
     "metadata": {},
     "output_type": "execute_result"
    }
   ],
   "source": [
    "#estraiamo i tweet in cui all'interno del content abbiamo uno di questi hashtags\n",
    "tweet_ibra = milan[milan['content'].str.contains(\"#ibrahimovic\")]\n",
    "tweet_ibra1 = milan[milan['content'].str.contains(\"#Ibrahimovic\")]\n",
    "tweet_ibra2= milan[milan['content'].str.contains(\"#izback\")]\n",
    "tweet_ibra3= milan[milan['content'].str.contains(\"#zlatan\")]\n",
    "tweet_ibra4 = milan[milan['content'].str.contains(\"#IZback\")]\n",
    "tweet_ibra5 = milan[milan['content'].str.contains(\"#IZBack\")]\n",
    "tweet_ibra6 = milan[milan['content'].str.contains(\"#IZBACK\")]\n",
    "ibra=tweet_ibra.append([tweet_ibra1,tweet_ibra2,tweet_ibra3,tweet_ibra4,tweet_ibra5,tweet_ibra6])\n",
    "#eliminiamo i duplicati di quei tweet che potrebbe essere stati estratti due volte se contenevano più di uno degli hashtagas sopra\n",
    "ibra.drop_duplicates(inplace=True)\n",
    "ibra.shape"
   ]
  },
  {
   "cell_type": "code",
   "execution_count": null,
   "metadata": {},
   "outputs": [],
   "source": []
  },
  {
   "cell_type": "code",
   "execution_count": 5,
   "metadata": {},
   "outputs": [],
   "source": [
    "ibra['tweetDate'] = ibra['tweetDate'] + timedelta(hours = 1)\n",
    "ibra['orarioTweet'] = ibra['tweetDate'].dt.strftime('%H:%M')\n",
    "tweetibraminuto = ibra.groupby('orarioTweet').count()\n",
    "tweetibraminuto.reset_index(inplace = True)\n",
    "#tweetibraminuto.to_csv('tweetIbraMinuto1.csv')"
   ]
  },
  {
   "cell_type": "code",
   "execution_count": 6,
   "metadata": {},
   "outputs": [
    {
     "data": {
      "text/html": [
       "<div>\n",
       "<style scoped>\n",
       "    .dataframe tbody tr th:only-of-type {\n",
       "        vertical-align: middle;\n",
       "    }\n",
       "\n",
       "    .dataframe tbody tr th {\n",
       "        vertical-align: top;\n",
       "    }\n",
       "\n",
       "    .dataframe thead th {\n",
       "        text-align: right;\n",
       "    }\n",
       "</style>\n",
       "<table border=\"1\" class=\"dataframe\">\n",
       "  <thead>\n",
       "    <tr style=\"text-align: right;\">\n",
       "      <th></th>\n",
       "      <th>orarioTweet</th>\n",
       "      <th>Unnamed: 0</th>\n",
       "      <th>content</th>\n",
       "      <th>query</th>\n",
       "      <th>tweetDate</th>\n",
       "      <th>twitterProfile</th>\n",
       "    </tr>\n",
       "  </thead>\n",
       "  <tbody>\n",
       "    <tr>\n",
       "      <th>0</th>\n",
       "      <td>20:30</td>\n",
       "      <td>2</td>\n",
       "      <td>2</td>\n",
       "      <td>2</td>\n",
       "      <td>2</td>\n",
       "      <td>2</td>\n",
       "    </tr>\n",
       "    <tr>\n",
       "      <th>1</th>\n",
       "      <td>20:32</td>\n",
       "      <td>1</td>\n",
       "      <td>1</td>\n",
       "      <td>1</td>\n",
       "      <td>1</td>\n",
       "      <td>1</td>\n",
       "    </tr>\n",
       "    <tr>\n",
       "      <th>2</th>\n",
       "      <td>20:34</td>\n",
       "      <td>1</td>\n",
       "      <td>1</td>\n",
       "      <td>1</td>\n",
       "      <td>1</td>\n",
       "      <td>1</td>\n",
       "    </tr>\n",
       "    <tr>\n",
       "      <th>3</th>\n",
       "      <td>20:35</td>\n",
       "      <td>6</td>\n",
       "      <td>6</td>\n",
       "      <td>6</td>\n",
       "      <td>6</td>\n",
       "      <td>6</td>\n",
       "    </tr>\n",
       "    <tr>\n",
       "      <th>4</th>\n",
       "      <td>20:37</td>\n",
       "      <td>2</td>\n",
       "      <td>2</td>\n",
       "      <td>2</td>\n",
       "      <td>2</td>\n",
       "      <td>2</td>\n",
       "    </tr>\n",
       "  </tbody>\n",
       "</table>\n",
       "</div>"
      ],
      "text/plain": [
       "  orarioTweet  Unnamed: 0  content  query  tweetDate  twitterProfile\n",
       "0       20:30           2        2      2          2               2\n",
       "1       20:32           1        1      1          1               1\n",
       "2       20:34           1        1      1          1               1\n",
       "3       20:35           6        6      6          6               6\n",
       "4       20:37           2        2      2          2               2"
      ]
     },
     "execution_count": 6,
     "metadata": {},
     "output_type": "execute_result"
    }
   ],
   "source": [
    "tweetibraminuto.head()"
   ]
  },
  {
   "cell_type": "code",
   "execution_count": null,
   "metadata": {},
   "outputs": [],
   "source": []
  },
  {
   "cell_type": "code",
   "execution_count": null,
   "metadata": {},
   "outputs": [],
   "source": []
  }
 ],
 "metadata": {
  "kernelspec": {
   "display_name": "Python 3",
   "language": "python",
   "name": "python3"
  },
  "language_info": {
   "codemirror_mode": {
    "name": "ipython",
    "version": 3
   },
   "file_extension": ".py",
   "mimetype": "text/x-python",
   "name": "python",
   "nbconvert_exporter": "python",
   "pygments_lexer": "ipython3",
   "version": "3.7.3"
  }
 },
 "nbformat": 4,
 "nbformat_minor": 2
}
