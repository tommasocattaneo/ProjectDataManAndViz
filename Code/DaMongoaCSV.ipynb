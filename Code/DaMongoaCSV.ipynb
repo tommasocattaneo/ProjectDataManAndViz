{
 "cells": [
  {
   "cell_type": "code",
   "execution_count": null,
   "metadata": {},
   "outputs": [],
   "source": [
    "#!/usr/bin/env python3\n",
    "# -*- coding: utf-8 -*-\n",
    "import datetime\n",
    "import pandas as pd\n",
    "\n",
    "# Import the MongoClient class from pymongo package\n",
    "from pymongo import MongoClient\n",
    "\n",
    "# Create a client object to access the database\n",
    "client = MongoClient('mongo', 27017, username='admin', password='DataMan2019!')\n",
    "\n",
    "# Get the \"twitter\" database\n",
    "db = client.twitter\n",
    "# Get the \"Match\" collection from the \"twitter\" database. Lo stesso è stato fatto per le collection Milan e Inter\n",
    "tweets = db.Match\n",
    "\n",
    "\n",
    "\n",
    "\n",
    "mongodb_data = list(tweets.find())\n",
    "mongodb_df = pd.DataFrame(mongodb_data)\n",
    "mongodb_df.to_csv('match.csv')"
   ]
  }
 ],
 "metadata": {
  "kernelspec": {
   "display_name": "Python 3",
   "language": "python",
   "name": "python3"
  },
  "language_info": {
   "codemirror_mode": {
    "name": "ipython",
    "version": 3
   },
   "file_extension": ".py",
   "mimetype": "text/x-python",
   "name": "python",
   "nbconvert_exporter": "python",
   "pygments_lexer": "ipython3",
   "version": "3.7.3"
  }
 },
 "nbformat": 4,
 "nbformat_minor": 2
}
