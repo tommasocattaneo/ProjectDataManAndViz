{
 "cells": [
  {
   "cell_type": "code",
   "execution_count": 1,
   "metadata": {},
   "outputs": [],
   "source": [
    "import pandas as pd\n",
    "from datetime import timedelta\n",
    "tweet_inter=pd.read_csv(r'tweet_inter.csv')"
   ]
  },
  {
   "cell_type": "code",
   "execution_count": null,
   "metadata": {},
   "outputs": [],
   "source": []
  },
  {
   "cell_type": "code",
   "execution_count": 2,
   "metadata": {},
   "outputs": [
    {
     "data": {
      "text/html": [
       "<div>\n",
       "<style scoped>\n",
       "    .dataframe tbody tr th:only-of-type {\n",
       "        vertical-align: middle;\n",
       "    }\n",
       "\n",
       "    .dataframe tbody tr th {\n",
       "        vertical-align: top;\n",
       "    }\n",
       "\n",
       "    .dataframe thead th {\n",
       "        text-align: right;\n",
       "    }\n",
       "</style>\n",
       "<table border=\"1\" class=\"dataframe\">\n",
       "  <thead>\n",
       "    <tr style=\"text-align: right;\">\n",
       "      <th></th>\n",
       "      <th>Unnamed: 0</th>\n",
       "      <th>content</th>\n",
       "      <th>query</th>\n",
       "      <th>tweetDate</th>\n",
       "      <th>twitterProfile</th>\n",
       "    </tr>\n",
       "  </thead>\n",
       "  <tbody>\n",
       "    <tr>\n",
       "      <th>0</th>\n",
       "      <td>3875</td>\n",
       "      <td>#Inter #milan  #serieta #derby #hakancalhanogl...</td>\n",
       "      <td>#lukaku</td>\n",
       "      <td>2020-02-09 19:30:25+00:00</td>\n",
       "      <td>https://twitter.com/DUNDARKESAPLI</td>\n",
       "    </tr>\n",
       "    <tr>\n",
       "      <th>1</th>\n",
       "      <td>4039</td>\n",
       "      <td>⚫🔵 #InterMilan 🔴⚫\\n\\nStasera chi ha più chance...</td>\n",
       "      <td>#lukaku</td>\n",
       "      <td>2020-02-09 19:35:03+00:00</td>\n",
       "      <td>https://twitter.com/bwinItalia</td>\n",
       "    </tr>\n",
       "    <tr>\n",
       "      <th>2</th>\n",
       "      <td>3736</td>\n",
       "      <td>Manchester United Ex Derby #DerbyMilano #Young...</td>\n",
       "      <td>#lukaku</td>\n",
       "      <td>2020-02-09 19:36:01+00:00</td>\n",
       "      <td>https://twitter.com/AR__alfadhli</td>\n",
       "    </tr>\n",
       "    <tr>\n",
       "      <th>3</th>\n",
       "      <td>4837</td>\n",
       "      <td>©️ | EPIC\\n\\nStasera in campo con la fascia da...</td>\n",
       "      <td>#brozovic</td>\n",
       "      <td>2020-02-09 19:38:56+00:00</td>\n",
       "      <td>https://twitter.com/Inter</td>\n",
       "    </tr>\n",
       "    <tr>\n",
       "      <th>4</th>\n",
       "      <td>3999</td>\n",
       "      <td>لوكاكو حيكون نجم المباراة اليوم ... \\n\\n#Inter...</td>\n",
       "      <td>#lukaku</td>\n",
       "      <td>2020-02-09 19:40:11+00:00</td>\n",
       "      <td>https://twitter.com/abugrasa</td>\n",
       "    </tr>\n",
       "  </tbody>\n",
       "</table>\n",
       "</div>"
      ],
      "text/plain": [
       "   Unnamed: 0                                            content      query  \\\n",
       "0        3875  #Inter #milan  #serieta #derby #hakancalhanogl...    #lukaku   \n",
       "1        4039  ⚫🔵 #InterMilan 🔴⚫\\n\\nStasera chi ha più chance...    #lukaku   \n",
       "2        3736  Manchester United Ex Derby #DerbyMilano #Young...    #lukaku   \n",
       "3        4837  ©️ | EPIC\\n\\nStasera in campo con la fascia da...  #brozovic   \n",
       "4        3999  لوكاكو حيكون نجم المباراة اليوم ... \\n\\n#Inter...    #lukaku   \n",
       "\n",
       "                   tweetDate                     twitterProfile  \n",
       "0  2020-02-09 19:30:25+00:00  https://twitter.com/DUNDARKESAPLI  \n",
       "1  2020-02-09 19:35:03+00:00     https://twitter.com/bwinItalia  \n",
       "2  2020-02-09 19:36:01+00:00   https://twitter.com/AR__alfadhli  \n",
       "3  2020-02-09 19:38:56+00:00          https://twitter.com/Inter  \n",
       "4  2020-02-09 19:40:11+00:00       https://twitter.com/abugrasa  "
      ]
     },
     "execution_count": 2,
     "metadata": {},
     "output_type": "execute_result"
    }
   ],
   "source": [
    "tweet_inter.head()"
   ]
  },
  {
   "cell_type": "code",
   "execution_count": 3,
   "metadata": {},
   "outputs": [],
   "source": [
    "tweet_inter['tweetDate'] = pd.to_datetime(tweet_inter['tweetDate'], format = '%Y-%m-%dT%H:%M:%S', utc = True)"
   ]
  },
  {
   "cell_type": "code",
   "execution_count": 4,
   "metadata": {},
   "outputs": [
    {
     "data": {
      "text/plain": [
       "(253, 5)"
      ]
     },
     "execution_count": 4,
     "metadata": {},
     "output_type": "execute_result"
    }
   ],
   "source": [
    "tweetLukaku = tweet_inter[tweet_inter['content'].str.contains(\"#Lukaku\")]\n",
    "tweetLukaku1 = tweet_inter[tweet_inter['content'].str.contains(\"#lukaku\")]\n",
    "tweetLukaku2 = tweet_inter[tweet_inter['content'].str.contains(\"Romelu\")]\n",
    "lukaku=tweetLukaku.append([tweetLukaku1,tweetLukaku2])\n",
    "lukaku.drop_duplicates(inplace=True)\n",
    "lukaku.shape"
   ]
  },
  {
   "cell_type": "code",
   "execution_count": 5,
   "metadata": {},
   "outputs": [],
   "source": [
    "lukaku['tweetDate'] = lukaku['tweetDate'] + timedelta(hours = 1)\n",
    "lukaku['orarioTweet'] = lukaku['tweetDate'].dt.strftime('%H:%M')\n",
    "tweetlukakuminuto = lukaku.groupby('orarioTweet').count()\n",
    "tweetlukakuminuto.reset_index(inplace = True)"
   ]
  },
  {
   "cell_type": "code",
   "execution_count": 6,
   "metadata": {},
   "outputs": [
    {
     "data": {
      "text/html": [
       "<div>\n",
       "<style scoped>\n",
       "    .dataframe tbody tr th:only-of-type {\n",
       "        vertical-align: middle;\n",
       "    }\n",
       "\n",
       "    .dataframe tbody tr th {\n",
       "        vertical-align: top;\n",
       "    }\n",
       "\n",
       "    .dataframe thead th {\n",
       "        text-align: right;\n",
       "    }\n",
       "</style>\n",
       "<table border=\"1\" class=\"dataframe\">\n",
       "  <thead>\n",
       "    <tr style=\"text-align: right;\">\n",
       "      <th></th>\n",
       "      <th>orarioTweet</th>\n",
       "      <th>Unnamed: 0</th>\n",
       "      <th>content</th>\n",
       "      <th>query</th>\n",
       "      <th>tweetDate</th>\n",
       "      <th>twitterProfile</th>\n",
       "    </tr>\n",
       "  </thead>\n",
       "  <tbody>\n",
       "    <tr>\n",
       "      <th>0</th>\n",
       "      <td>20:30</td>\n",
       "      <td>1</td>\n",
       "      <td>1</td>\n",
       "      <td>1</td>\n",
       "      <td>1</td>\n",
       "      <td>1</td>\n",
       "    </tr>\n",
       "    <tr>\n",
       "      <th>1</th>\n",
       "      <td>20:35</td>\n",
       "      <td>2</td>\n",
       "      <td>2</td>\n",
       "      <td>2</td>\n",
       "      <td>2</td>\n",
       "      <td>2</td>\n",
       "    </tr>\n",
       "    <tr>\n",
       "      <th>2</th>\n",
       "      <td>20:36</td>\n",
       "      <td>1</td>\n",
       "      <td>1</td>\n",
       "      <td>1</td>\n",
       "      <td>1</td>\n",
       "      <td>1</td>\n",
       "    </tr>\n",
       "    <tr>\n",
       "      <th>3</th>\n",
       "      <td>20:40</td>\n",
       "      <td>1</td>\n",
       "      <td>1</td>\n",
       "      <td>1</td>\n",
       "      <td>1</td>\n",
       "      <td>1</td>\n",
       "    </tr>\n",
       "    <tr>\n",
       "      <th>4</th>\n",
       "      <td>20:43</td>\n",
       "      <td>1</td>\n",
       "      <td>1</td>\n",
       "      <td>1</td>\n",
       "      <td>1</td>\n",
       "      <td>1</td>\n",
       "    </tr>\n",
       "  </tbody>\n",
       "</table>\n",
       "</div>"
      ],
      "text/plain": [
       "  orarioTweet  Unnamed: 0  content  query  tweetDate  twitterProfile\n",
       "0       20:30           1        1      1          1               1\n",
       "1       20:35           2        2      2          2               2\n",
       "2       20:36           1        1      1          1               1\n",
       "3       20:40           1        1      1          1               1\n",
       "4       20:43           1        1      1          1               1"
      ]
     },
     "execution_count": 6,
     "metadata": {},
     "output_type": "execute_result"
    }
   ],
   "source": [
    "tweetlukakuminuto.head()"
   ]
  },
  {
   "cell_type": "code",
   "execution_count": 7,
   "metadata": {},
   "outputs": [],
   "source": [
    "# tweetlukakuminuto.to_csv('tweetlukakuminuto1.csv')"
   ]
  },
  {
   "cell_type": "code",
   "execution_count": null,
   "metadata": {},
   "outputs": [],
   "source": []
  }
 ],
 "metadata": {
  "kernelspec": {
   "display_name": "Python 3",
   "language": "python",
   "name": "python3"
  },
  "language_info": {
   "codemirror_mode": {
    "name": "ipython",
    "version": 3
   },
   "file_extension": ".py",
   "mimetype": "text/x-python",
   "name": "python",
   "nbconvert_exporter": "python",
   "pygments_lexer": "ipython3",
   "version": "3.7.3"
  }
 },
 "nbformat": 4,
 "nbformat_minor": 2
}
